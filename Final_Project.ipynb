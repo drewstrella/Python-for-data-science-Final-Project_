{
 "cells": [
  {
   "cell_type": "markdown",
   "metadata": {},
   "source": [
    "# <center> <h1>Final Project</h1> </center>\n",
    "<center> <h1>EIN 4933/6935 Python for Data Science Summer 2021</h1> </center>\n",
    "<center> <h1>Drew Strella</h1> </center>"
   ]
  },
  {
   "cell_type": "markdown",
   "metadata": {},
   "source": [
    "Two major types of problems that machine learning algorithms try to solve are:\n",
    "\n",
    "**Regression** — Predict continuous value of a given data point<br/>\n",
    "**Classification** — Predict the class of the given data point<br/>\n",
    "\n",
    "In you project, choose one type of problem and make sure to follow the steps listed below:"
   ]
  },
  {
   "cell_type": "markdown",
   "metadata": {},
   "source": [
    "**Step-1 Problem Definition:**<br/>\n",
    "Choose a problem whose data set is available. This problem should either fall into regression or classification group. You can choose one of the datasets that are listed below. You are also free to choose another dataset that you are familiar with. You must write a summary about the problem and the associated dataset. <br/>\n",
    "**Step-2: Data Cleaning and Preprocessing:**<br/>\n",
    "In this step, you must identify the relevant columns in the dataset that can be used as predictors. Any irrelevant data columns must be excluded from the analysis. If there are any missing values in the dataset, they should be replaced through a data imputation method. Any missing rows should be deleted from the dataset. Each column data type must be converted into an appropriate data type. The data types can be obtained either in data info files or can be determined by inspection.  <br/>\n",
    "**Step-3 (optional): Feature Extraction/Addition:**<br/>\n",
    "In this step, additional features can be added to the existing dataset. The existing features can be altered in a way that can better serve for training the underlying model. You can skip this step if you think there is no room for extracting/adding extra features.<br/>\n",
    "**Step-4: Data Scaling (optional):**<br/>\n",
    "Transform your data so that it fits within a specific scale. For example standardization or normalization. You can skip this step if you think your dataset does not contain features highly varying in magnitudes, units and range.<br/>\n",
    "**Step-5: Data Splitting:**<br/>\n",
    "This step should start with creating two dataframes: response and features. Split these dataframes into train and test parts.<br/>\n",
    "**Step-6: Model Selection, Model Fitting and Model Evaluation:**<br/>\n",
    "Choose an appropriate model that can be used for your problem. You can choose a model that is listed under a given problem group below. You are also free to choose another model that you are familiar with. Fit your train data to your model. Generate predictions over the test data and then evaluate your model by reporting appropriate accuracy metrics.<br/>\n",
    "**Step-7: Report Feature Importance:**<br/>\n",
    "You must report the feature importance results.<br/>\n",
    "**Step-8: Improve Your Results:**<br/>\n",
    "Choose one or multiple different methods to improve your baseline results that you reported in the previous step. For example, you can enumerate multiple different models and recommend the one that gives the best accuracy metrics results. Or you can develop feature elimination strategy that yields better results. You are also free to choose another method that you are familiar with.<br/>"
   ]
  },
  {
   "cell_type": "markdown",
   "metadata": {},
   "source": [
    "## Regression Problem\n",
    "Models to consider:<br/>\n",
    "**Multiple Linear Regression**<br/>\n",
    "**Decision Trees**<br/>\n",
    "**Random Forecast**<br/>\n",
    "**Support Vector Machines**<br/>\n",
    "Any other model that can be used for regression problem.<br/>\n",
    "\n",
    "#### Example Data Sets for Regression Problem:\n",
    "**1) Nba:** Predict the salary of an NBA player.<br/> \n",
    "Dowload link: https://sites.google.com/site/yasinunlu/home/research/new1/nba.csv<br/> \n",
    "**2) Automobile Data Set:** Predict car prices.<br/> \n",
    "Dowload link:https://sites.google.com/site/yasinunlu/home/research/new1/AutomobileDataSet.xlsx<br/> \n",
    "More info: https://sites.google.com/site/yasinunlu/home/research/new1/auto_prices_info.txt<br/>\n",
    "**3) Auto Mpg:** Predict the mpg of an automobile.<br/> \n",
    "Dowload link:https://sites.google.com/site/yasinunlu/home/research/new1/mpg.zip"
   ]
  },
  {
   "cell_type": "markdown",
   "metadata": {},
   "source": [
    "## Classification Problem\n",
    "Models to consider:<br/>\n",
    "**Logistic Regression**<br/>\n",
    "**Decision Trees**<br/>\n",
    "**Random Forest**<br/>\n",
    "**Nearest Neighbor**<br/>\n",
    "**Support Vector Machines**<br/>\n",
    "**Naïve Bayes**<br/>\n",
    "Any other model that can be used for classification problem.<br/>\n",
    "\n",
    "#### Example Data Sets for Classification Problem:\n",
    "**1) Titanic:** Predict whether a passenger survived.<br/> \n",
    "Dowload link: https://sites.google.com/site/yasinunlu/home/research/new1/Titanic_train.csv<br/>\n",
    "**2) Iris:** Predict species name.<br/>\n",
    "Download link: https://sites.google.com/site/yasinunlu/home/research/new1/iris.csv<br/>\n",
    "**3) Adult:** Predict whether a person makes over 50K a year.<br/>\n",
    "Download link: https://sites.google.com/site/yasinunlu/home/research/new1/adult.zip<br/>"
   ]
  },
  {
   "cell_type": "code",
   "execution_count": null,
   "metadata": {},
   "outputs": [],
   "source": []
  },
  {
   "cell_type": "code",
   "execution_count": null,
   "metadata": {},
   "outputs": [],
   "source": []
  },
  {
   "cell_type": "code",
   "execution_count": null,
   "metadata": {},
   "outputs": [],
   "source": []
  },
  {
   "cell_type": "code",
   "execution_count": null,
   "metadata": {},
   "outputs": [],
   "source": []
  },
  {
   "cell_type": "markdown",
   "metadata": {},
   "source": [
    "The dataset NBA was used to solve the regression problem of predicting NBA players salaries, based on player features. The dadaset includes infor for individual players such as; Name, Team, Number, Position, Age, Height, Weight, College, and their corresponding Salary. I eliminated the Name and Number columns from this dataset as they were uncorrelated to the players salaries. I filled any missing values in the data I then converted the Height column to be in terms of inches, and encoded the features Team, Position, and College to be in terms of integers. I then split the data into features and response dataframes and trained the data to use the features to predict salaries. I then checked the importance of each feature and discovered that the Weight, and Age were the most important features, so I made a new dataframe with only those features and made new predictions. I found that my new predictions were indeed slightly better than they were when considering all of the other features."
   ]
  },
  {
   "cell_type": "code",
   "execution_count": 1,
   "metadata": {},
   "outputs": [
    {
     "name": "stdout",
     "output_type": "stream",
     "text": [
      "<class 'pandas.core.frame.DataFrame'>\n",
      "RangeIndex: 457 entries, 0 to 456\n",
      "Data columns (total 9 columns):\n",
      " #   Column    Non-Null Count  Dtype  \n",
      "---  ------    --------------  -----  \n",
      " 0   Name      457 non-null    object \n",
      " 1   Team      457 non-null    object \n",
      " 2   Number    457 non-null    int64  \n",
      " 3   Position  457 non-null    object \n",
      " 4   Age       457 non-null    int64  \n",
      " 5   Height    457 non-null    object \n",
      " 6   Weight    457 non-null    int64  \n",
      " 7   College   373 non-null    object \n",
      " 8   Salary    446 non-null    float64\n",
      "dtypes: float64(1), int64(3), object(5)\n",
      "memory usage: 32.3+ KB\n"
     ]
    }
   ],
   "source": [
    "import pandas as pd\n",
    "nba_data = pd.read_csv('nba.csv')\n",
    "nba_data.info()"
   ]
  },
  {
   "cell_type": "code",
   "execution_count": 2,
   "metadata": {
    "scrolled": true
   },
   "outputs": [
    {
     "name": "stdout",
     "output_type": "stream",
     "text": [
      "<class 'pandas.core.frame.DataFrame'>\n",
      "RangeIndex: 457 entries, 0 to 456\n",
      "Data columns (total 7 columns):\n",
      " #   Column    Non-Null Count  Dtype  \n",
      "---  ------    --------------  -----  \n",
      " 0   Team      457 non-null    object \n",
      " 1   Position  457 non-null    object \n",
      " 2   Age       457 non-null    int64  \n",
      " 3   Height    457 non-null    object \n",
      " 4   Weight    457 non-null    int64  \n",
      " 5   College   373 non-null    object \n",
      " 6   Salary    446 non-null    float64\n",
      "dtypes: float64(1), int64(2), object(4)\n",
      "memory usage: 25.1+ KB\n"
     ]
    }
   ],
   "source": [
    "## I decided to drop the name and number categories, as the players name should have no merit on their salary in\n",
    "#terms of this dataset. Also players usually are allowed to pick their number so I removed that as well.\n",
    "\n",
    "df = nba_data.drop(labels = ['Name', 'Number'], axis = 1) \n",
    "    \n",
    "\n",
    "df.head()\n",
    "df.info()"
   ]
  },
  {
   "cell_type": "code",
   "execution_count": 3,
   "metadata": {},
   "outputs": [
    {
     "name": "stdout",
     "output_type": "stream",
     "text": [
      "Columns that have missing values:\n",
      "College has a missing value.\n",
      "Salary has a missing value.\n",
      "End\n"
     ]
    }
   ],
   "source": [
    "#Check for columns with missing values\n",
    "\n",
    "bool_df = ~df.isna()\n",
    "ps = bool_df.apply(any, axis = 1)\n",
    "df = df[ps]\n",
    "column_names = df.columns.to_list()\n",
    "print('Columns that have missing values:')\n",
    "for col_name in column_names:\n",
    "    if(any(df[col_name].isna())):\n",
    "        print(col_name+' has a missing value.')\n",
    "print('End')"
   ]
  },
  {
   "cell_type": "code",
   "execution_count": 4,
   "metadata": {},
   "outputs": [
    {
     "name": "stdout",
     "output_type": "stream",
     "text": [
      "College has 119 different values.\n",
      "Salary has 310 different values.\n"
     ]
    }
   ],
   "source": [
    "College = len(df.College.unique().tolist())\n",
    "Salary = len(df.Salary.unique().tolist())\n",
    "\n",
    "print('College has '+str(College)+' different values.')\n",
    "print('Salary has '+str(Salary)+' different values.')\n"
   ]
  },
  {
   "cell_type": "code",
   "execution_count": 5,
   "metadata": {},
   "outputs": [],
   "source": [
    "#Replacing the missing College values with the most common one\n",
    "most_one_College = df['College'].value_counts().idxmax() \n",
    "df['College'] = df['College'].fillna(most_one_College)\n"
   ]
  },
  {
   "cell_type": "code",
   "execution_count": 6,
   "metadata": {},
   "outputs": [],
   "source": [
    "#Filling missing values for Salary\n",
    "na_Salary = df.Salary.isna()\n",
    "#mean and std of Salary\n",
    "mean_Salary = df.Salary.mean()\n",
    "std_Salary = df.Salary.std()\n",
    "#how many NaNs\n",
    "size_na_Salary = sum(na_Salary)\n",
    "\n",
    "import numpy as np\n",
    "ps_rand_Salary_array = np.random.randint(max(0, mean_Salary - std_Salary), mean_Salary + std_Salary, size = size_na_Salary)\n",
    "ps_rand_Salary_array = ps_rand_Salary_array.astype(float)\n",
    "df.loc[na_Salary, 'Salary'] = ps_rand_Salary_array"
   ]
  },
  {
   "cell_type": "code",
   "execution_count": 7,
   "metadata": {},
   "outputs": [
    {
     "name": "stdout",
     "output_type": "stream",
     "text": [
      "<class 'pandas.core.frame.DataFrame'>\n",
      "Int64Index: 457 entries, 0 to 456\n",
      "Data columns (total 7 columns):\n",
      " #   Column    Non-Null Count  Dtype  \n",
      "---  ------    --------------  -----  \n",
      " 0   Team      457 non-null    object \n",
      " 1   Position  457 non-null    object \n",
      " 2   Age       457 non-null    int64  \n",
      " 3   Height    457 non-null    object \n",
      " 4   Weight    457 non-null    int64  \n",
      " 5   College   457 non-null    object \n",
      " 6   Salary    457 non-null    float64\n",
      "dtypes: float64(1), int64(2), object(4)\n",
      "memory usage: 28.6+ KB\n"
     ]
    }
   ],
   "source": [
    "df.info()"
   ]
  },
  {
   "cell_type": "code",
   "execution_count": 8,
   "metadata": {},
   "outputs": [
    {
     "name": "stdout",
     "output_type": "stream",
     "text": [
      "Columns that have missing values:\n",
      "End\n"
     ]
    }
   ],
   "source": [
    "#Checking for missing values again\n",
    "bool_df = ~df.isna()\n",
    "ps = bool_df.apply(any, axis = 1)\n",
    "df = df[ps]\n",
    "column_names = df.columns.to_list()\n",
    "print('Columns that have missing values:')\n",
    "for col_name in column_names:\n",
    "    if(any(df[col_name].isna())):\n",
    "        print(col_name+' has a missing value.')\n",
    "print('End')"
   ]
  },
  {
   "cell_type": "code",
   "execution_count": 9,
   "metadata": {},
   "outputs": [
    {
     "name": "stdout",
     "output_type": "stream",
     "text": [
      "<class 'pandas.core.frame.DataFrame'>\n",
      "Int64Index: 457 entries, 0 to 456\n",
      "Data columns (total 7 columns):\n",
      " #   Column    Non-Null Count  Dtype  \n",
      "---  ------    --------------  -----  \n",
      " 0   Team      457 non-null    object \n",
      " 1   Position  457 non-null    object \n",
      " 2   Age       457 non-null    int64  \n",
      " 3   Height    457 non-null    object \n",
      " 4   Weight    457 non-null    int64  \n",
      " 5   College   457 non-null    object \n",
      " 6   Salary    457 non-null    float64\n",
      "dtypes: float64(1), int64(2), object(4)\n",
      "memory usage: 28.6+ KB\n"
     ]
    }
   ],
   "source": [
    "df.info()"
   ]
  },
  {
   "cell_type": "code",
   "execution_count": 10,
   "metadata": {
    "scrolled": true
   },
   "outputs": [
    {
     "name": "stdout",
     "output_type": "stream",
     "text": [
      "<class 'pandas.core.frame.DataFrame'>\n",
      "Int64Index: 457 entries, 0 to 456\n",
      "Data columns (total 7 columns):\n",
      " #   Column           Non-Null Count  Dtype  \n",
      "---  ------           --------------  -----  \n",
      " 0   Height (inches)  457 non-null    int64  \n",
      " 1   Team             457 non-null    object \n",
      " 2   Position         457 non-null    object \n",
      " 3   Age              457 non-null    int64  \n",
      " 4   Weight           457 non-null    int64  \n",
      " 5   College          457 non-null    object \n",
      " 6   Salary           457 non-null    float64\n",
      "dtypes: float64(1), int64(3), object(3)\n",
      "memory usage: 28.6+ KB\n"
     ]
    }
   ],
   "source": [
    "#Convert Height values to be in terms of inches, which is more useful for this dataset\n",
    "nba_new = df.copy() \n",
    "myListFeetInches = []\n",
    "\n",
    "for element in nba_new['Height']:\n",
    "    k = str(element)\n",
    "    feet = k[0]\n",
    "    inches = k[2:]\n",
    "    feetInches = 12*int(feet)+ int(inches)\n",
    "    myListFeetInches.append(feetInches)\n",
    "    \n",
    "\n",
    "\n",
    "nba_new[['Height (inches)']] =  pd.DataFrame(myListFeetInches) #create the new column with the associated list\n",
    "\n",
    "#I mived the new Height column to the first row to keep 'Salary' as the last row\n",
    "\n",
    "nba_new = nba_new.drop(labels = ['Height'], axis = 1) \n",
    "first_column = nba_new.pop('Height (inches)')\n",
    "nba_new.insert(0, 'Height (inches)', first_column)\n",
    "nba_new\n",
    "nba_new.info()"
   ]
  },
  {
   "cell_type": "code",
   "execution_count": null,
   "metadata": {},
   "outputs": [],
   "source": []
  },
  {
   "cell_type": "code",
   "execution_count": 11,
   "metadata": {},
   "outputs": [
    {
     "name": "stdout",
     "output_type": "stream",
     "text": [
      "<class 'pandas.core.frame.DataFrame'>\n",
      "Int64Index: 457 entries, 0 to 456\n",
      "Data columns (total 7 columns):\n",
      " #   Column           Non-Null Count  Dtype  \n",
      "---  ------           --------------  -----  \n",
      " 0   Height (inches)  457 non-null    int64  \n",
      " 1   Team             457 non-null    int32  \n",
      " 2   Position         457 non-null    int32  \n",
      " 3   Age              457 non-null    int64  \n",
      " 4   Weight           457 non-null    int64  \n",
      " 5   College          457 non-null    int32  \n",
      " 6   Salary           457 non-null    float64\n",
      "dtypes: float64(1), int32(3), int64(3)\n",
      "memory usage: 23.2 KB\n"
     ]
    }
   ],
   "source": [
    "#Change the columns containing objects to integers\n",
    "from sklearn.preprocessing import LabelEncoder\n",
    "df_clean = nba_new.copy() \n",
    "labelencoder = LabelEncoder()\n",
    "df_clean['Team'] = labelencoder.fit_transform(df['Team'])\n",
    "df_clean['Position'] = labelencoder.fit_transform(df['Position'])\n",
    "df_clean['College'] = labelencoder.fit_transform(df['College'])\n",
    "df_clean.info()"
   ]
  },
  {
   "cell_type": "code",
   "execution_count": 12,
   "metadata": {},
   "outputs": [
    {
     "data": {
      "text/html": [
       "<div>\n",
       "<style scoped>\n",
       "    .dataframe tbody tr th:only-of-type {\n",
       "        vertical-align: middle;\n",
       "    }\n",
       "\n",
       "    .dataframe tbody tr th {\n",
       "        vertical-align: top;\n",
       "    }\n",
       "\n",
       "    .dataframe thead th {\n",
       "        text-align: right;\n",
       "    }\n",
       "</style>\n",
       "<table border=\"1\" class=\"dataframe\">\n",
       "  <thead>\n",
       "    <tr style=\"text-align: right;\">\n",
       "      <th></th>\n",
       "      <th>Height (inches)</th>\n",
       "      <th>Team</th>\n",
       "      <th>Position</th>\n",
       "      <th>Age</th>\n",
       "      <th>Weight</th>\n",
       "      <th>College</th>\n",
       "      <th>Salary</th>\n",
       "    </tr>\n",
       "  </thead>\n",
       "  <tbody>\n",
       "    <tr>\n",
       "      <th>0</th>\n",
       "      <td>74</td>\n",
       "      <td>1</td>\n",
       "      <td>2</td>\n",
       "      <td>25</td>\n",
       "      <td>180</td>\n",
       "      <td>93</td>\n",
       "      <td>7730337.0</td>\n",
       "    </tr>\n",
       "    <tr>\n",
       "      <th>1</th>\n",
       "      <td>78</td>\n",
       "      <td>1</td>\n",
       "      <td>3</td>\n",
       "      <td>25</td>\n",
       "      <td>235</td>\n",
       "      <td>52</td>\n",
       "      <td>6796117.0</td>\n",
       "    </tr>\n",
       "    <tr>\n",
       "      <th>2</th>\n",
       "      <td>77</td>\n",
       "      <td>1</td>\n",
       "      <td>4</td>\n",
       "      <td>27</td>\n",
       "      <td>205</td>\n",
       "      <td>8</td>\n",
       "      <td>5616999.0</td>\n",
       "    </tr>\n",
       "    <tr>\n",
       "      <th>3</th>\n",
       "      <td>77</td>\n",
       "      <td>1</td>\n",
       "      <td>4</td>\n",
       "      <td>22</td>\n",
       "      <td>185</td>\n",
       "      <td>33</td>\n",
       "      <td>1148640.0</td>\n",
       "    </tr>\n",
       "    <tr>\n",
       "      <th>4</th>\n",
       "      <td>82</td>\n",
       "      <td>1</td>\n",
       "      <td>1</td>\n",
       "      <td>29</td>\n",
       "      <td>231</td>\n",
       "      <td>45</td>\n",
       "      <td>5000000.0</td>\n",
       "    </tr>\n",
       "  </tbody>\n",
       "</table>\n",
       "</div>"
      ],
      "text/plain": [
       "   Height (inches)  Team  Position  Age  Weight  College     Salary\n",
       "0               74     1         2   25     180       93  7730337.0\n",
       "1               78     1         3   25     235       52  6796117.0\n",
       "2               77     1         4   27     205        8  5616999.0\n",
       "3               77     1         4   22     185       33  1148640.0\n",
       "4               82     1         1   29     231       45  5000000.0"
      ]
     },
     "execution_count": 12,
     "metadata": {},
     "output_type": "execute_result"
    }
   ],
   "source": [
    "df_clean.head()\n",
    "# df_clean2=df_clean"
   ]
  },
  {
   "cell_type": "code",
   "execution_count": 13,
   "metadata": {},
   "outputs": [
    {
     "data": {
      "image/png": "[encoded data removed]",
      "text/plain": [
       "<Figure size 504x432 with 1 Axes>"
      ]
     },
     "metadata": {
      "needs_background": "light"
     },
     "output_type": "display_data"
    }
   ],
   "source": [
    "import matplotlib.pyplot as plt\n",
    "plt.figure(figsize=(7, 6))\n",
    "plt.hist(df_clean['Salary'])\n",
    "plt.title('Players Salaries Histogram')\n",
    "plt.xlabel('Salary in $ x10^7')\n",
    "plt.ylabel('Number of Players at that Salary')\n",
    "plt.show()"
   ]
  },
  {
   "cell_type": "code",
   "execution_count": 14,
   "metadata": {},
   "outputs": [
    {
     "data": {
      "text/html": [
       "<div>\n",
       "<style scoped>\n",
       "    .dataframe tbody tr th:only-of-type {\n",
       "        vertical-align: middle;\n",
       "    }\n",
       "\n",
       "    .dataframe tbody tr th {\n",
       "        vertical-align: top;\n",
       "    }\n",
       "\n",
       "    .dataframe thead th {\n",
       "        text-align: right;\n",
       "    }\n",
       "</style>\n",
       "<table border=\"1\" class=\"dataframe\">\n",
       "  <thead>\n",
       "    <tr style=\"text-align: right;\">\n",
       "      <th></th>\n",
       "      <th>Height (inches)</th>\n",
       "      <th>Team</th>\n",
       "      <th>Position</th>\n",
       "      <th>Age</th>\n",
       "      <th>Weight</th>\n",
       "      <th>College</th>\n",
       "      <th>Salary</th>\n",
       "    </tr>\n",
       "  </thead>\n",
       "  <tbody>\n",
       "    <tr>\n",
       "      <th>0</th>\n",
       "      <td>0.277778</td>\n",
       "      <td>0.034483</td>\n",
       "      <td>0.50</td>\n",
       "      <td>0.285714</td>\n",
       "      <td>0.130137</td>\n",
       "      <td>0.794872</td>\n",
       "      <td>0.308359</td>\n",
       "    </tr>\n",
       "    <tr>\n",
       "      <th>1</th>\n",
       "      <td>0.500000</td>\n",
       "      <td>0.034483</td>\n",
       "      <td>0.75</td>\n",
       "      <td>0.285714</td>\n",
       "      <td>0.506849</td>\n",
       "      <td>0.444444</td>\n",
       "      <td>0.270944</td>\n",
       "    </tr>\n",
       "    <tr>\n",
       "      <th>2</th>\n",
       "      <td>0.444444</td>\n",
       "      <td>0.034483</td>\n",
       "      <td>1.00</td>\n",
       "      <td>0.380952</td>\n",
       "      <td>0.301370</td>\n",
       "      <td>0.068376</td>\n",
       "      <td>0.223721</td>\n",
       "    </tr>\n",
       "    <tr>\n",
       "      <th>3</th>\n",
       "      <td>0.444444</td>\n",
       "      <td>0.034483</td>\n",
       "      <td>1.00</td>\n",
       "      <td>0.142857</td>\n",
       "      <td>0.164384</td>\n",
       "      <td>0.282051</td>\n",
       "      <td>0.044765</td>\n",
       "    </tr>\n",
       "    <tr>\n",
       "      <th>4</th>\n",
       "      <td>0.722222</td>\n",
       "      <td>0.034483</td>\n",
       "      <td>0.25</td>\n",
       "      <td>0.476190</td>\n",
       "      <td>0.479452</td>\n",
       "      <td>0.384615</td>\n",
       "      <td>0.199010</td>\n",
       "    </tr>\n",
       "  </tbody>\n",
       "</table>\n",
       "</div>"
      ],
      "text/plain": [
       "   Height (inches)      Team  Position       Age    Weight   College    Salary\n",
       "0         0.277778  0.034483      0.50  0.285714  0.130137  0.794872  0.308359\n",
       "1         0.500000  0.034483      0.75  0.285714  0.506849  0.444444  0.270944\n",
       "2         0.444444  0.034483      1.00  0.380952  0.301370  0.068376  0.223721\n",
       "3         0.444444  0.034483      1.00  0.142857  0.164384  0.282051  0.044765\n",
       "4         0.722222  0.034483      0.25  0.476190  0.479452  0.384615  0.199010"
      ]
     },
     "execution_count": 14,
     "metadata": {},
     "output_type": "execute_result"
    }
   ],
   "source": [
    "from sklearn.preprocessing import MinMaxScaler\n",
    "scaler = MinMaxScaler() \n",
    "data_normalized = scaler.fit_transform(df_clean)\n",
    "df_normalized = pd.DataFrame(data_normalized, columns = df_clean.columns.to_list())\n",
    "df_normalized.head()"
   ]
  },
  {
   "cell_type": "code",
   "execution_count": 15,
   "metadata": {},
   "outputs": [
    {
     "data": {
      "text/html": [
       "<div>\n",
       "<style scoped>\n",
       "    .dataframe tbody tr th:only-of-type {\n",
       "        vertical-align: middle;\n",
       "    }\n",
       "\n",
       "    .dataframe tbody tr th {\n",
       "        vertical-align: top;\n",
       "    }\n",
       "\n",
       "    .dataframe thead th {\n",
       "        text-align: right;\n",
       "    }\n",
       "</style>\n",
       "<table border=\"1\" class=\"dataframe\">\n",
       "  <thead>\n",
       "    <tr style=\"text-align: right;\">\n",
       "      <th></th>\n",
       "      <th>Height (inches)</th>\n",
       "      <th>Team</th>\n",
       "      <th>Position</th>\n",
       "      <th>Age</th>\n",
       "      <th>Weight</th>\n",
       "      <th>College</th>\n",
       "      <th>Salary</th>\n",
       "    </tr>\n",
       "  </thead>\n",
       "  <tbody>\n",
       "    <tr>\n",
       "      <th>0</th>\n",
       "      <td>-1.516410</td>\n",
       "      <td>-1.573667</td>\n",
       "      <td>-0.051381</td>\n",
       "      <td>-0.440701</td>\n",
       "      <td>-1.576454</td>\n",
       "      <td>1.267612</td>\n",
       "      <td>0.561957</td>\n",
       "    </tr>\n",
       "    <tr>\n",
       "      <th>1</th>\n",
       "      <td>-0.365726</td>\n",
       "      <td>-1.573667</td>\n",
       "      <td>0.660170</td>\n",
       "      <td>-0.440701</td>\n",
       "      <td>0.511666</td>\n",
       "      <td>-0.109591</td>\n",
       "      <td>0.381707</td>\n",
       "    </tr>\n",
       "    <tr>\n",
       "      <th>2</th>\n",
       "      <td>-0.653397</td>\n",
       "      <td>-1.573667</td>\n",
       "      <td>1.371722</td>\n",
       "      <td>0.013927</td>\n",
       "      <td>-0.627308</td>\n",
       "      <td>-1.587566</td>\n",
       "      <td>0.154206</td>\n",
       "    </tr>\n",
       "    <tr>\n",
       "      <th>3</th>\n",
       "      <td>-0.653397</td>\n",
       "      <td>-1.573667</td>\n",
       "      <td>1.371722</td>\n",
       "      <td>-1.122644</td>\n",
       "      <td>-1.386625</td>\n",
       "      <td>-0.747807</td>\n",
       "      <td>-0.707928</td>\n",
       "    </tr>\n",
       "    <tr>\n",
       "      <th>4</th>\n",
       "      <td>0.784958</td>\n",
       "      <td>-1.573667</td>\n",
       "      <td>-0.762933</td>\n",
       "      <td>0.468556</td>\n",
       "      <td>0.359803</td>\n",
       "      <td>-0.344723</td>\n",
       "      <td>0.035161</td>\n",
       "    </tr>\n",
       "  </tbody>\n",
       "</table>\n",
       "</div>"
      ],
      "text/plain": [
       "   Height (inches)      Team  Position       Age    Weight   College    Salary\n",
       "0        -1.516410 -1.573667 -0.051381 -0.440701 -1.576454  1.267612  0.561957\n",
       "1        -0.365726 -1.573667  0.660170 -0.440701  0.511666 -0.109591  0.381707\n",
       "2        -0.653397 -1.573667  1.371722  0.013927 -0.627308 -1.587566  0.154206\n",
       "3        -0.653397 -1.573667  1.371722 -1.122644 -1.386625 -0.747807 -0.707928\n",
       "4         0.784958 -1.573667 -0.762933  0.468556  0.359803 -0.344723  0.035161"
      ]
     },
     "execution_count": 15,
     "metadata": {},
     "output_type": "execute_result"
    }
   ],
   "source": [
    "from sklearn.preprocessing import StandardScaler\n",
    "scaler = StandardScaler() \n",
    "data_standardized = scaler.fit_transform(df_clean)\n",
    "df_clean = pd.DataFrame(data_standardized, columns = df_clean.columns.to_list())\n",
    "df_clean.head()"
   ]
  },
  {
   "cell_type": "code",
   "execution_count": 16,
   "metadata": {},
   "outputs": [
    {
     "data": {
      "text/html": [
       "<div>\n",
       "<style scoped>\n",
       "    .dataframe tbody tr th:only-of-type {\n",
       "        vertical-align: middle;\n",
       "    }\n",
       "\n",
       "    .dataframe tbody tr th {\n",
       "        vertical-align: top;\n",
       "    }\n",
       "\n",
       "    .dataframe thead th {\n",
       "        text-align: right;\n",
       "    }\n",
       "</style>\n",
       "<table border=\"1\" class=\"dataframe\">\n",
       "  <thead>\n",
       "    <tr style=\"text-align: right;\">\n",
       "      <th></th>\n",
       "      <th>Height (inches)</th>\n",
       "      <th>Team</th>\n",
       "      <th>Position</th>\n",
       "      <th>Age</th>\n",
       "      <th>Weight</th>\n",
       "      <th>College</th>\n",
       "    </tr>\n",
       "  </thead>\n",
       "  <tbody>\n",
       "    <tr>\n",
       "      <th>0</th>\n",
       "      <td>0.277778</td>\n",
       "      <td>0.034483</td>\n",
       "      <td>0.50</td>\n",
       "      <td>0.285714</td>\n",
       "      <td>0.130137</td>\n",
       "      <td>0.794872</td>\n",
       "    </tr>\n",
       "    <tr>\n",
       "      <th>1</th>\n",
       "      <td>0.500000</td>\n",
       "      <td>0.034483</td>\n",
       "      <td>0.75</td>\n",
       "      <td>0.285714</td>\n",
       "      <td>0.506849</td>\n",
       "      <td>0.444444</td>\n",
       "    </tr>\n",
       "    <tr>\n",
       "      <th>2</th>\n",
       "      <td>0.444444</td>\n",
       "      <td>0.034483</td>\n",
       "      <td>1.00</td>\n",
       "      <td>0.380952</td>\n",
       "      <td>0.301370</td>\n",
       "      <td>0.068376</td>\n",
       "    </tr>\n",
       "    <tr>\n",
       "      <th>3</th>\n",
       "      <td>0.444444</td>\n",
       "      <td>0.034483</td>\n",
       "      <td>1.00</td>\n",
       "      <td>0.142857</td>\n",
       "      <td>0.164384</td>\n",
       "      <td>0.282051</td>\n",
       "    </tr>\n",
       "    <tr>\n",
       "      <th>4</th>\n",
       "      <td>0.722222</td>\n",
       "      <td>0.034483</td>\n",
       "      <td>0.25</td>\n",
       "      <td>0.476190</td>\n",
       "      <td>0.479452</td>\n",
       "      <td>0.384615</td>\n",
       "    </tr>\n",
       "  </tbody>\n",
       "</table>\n",
       "</div>"
      ],
      "text/plain": [
       "   Height (inches)      Team  Position       Age    Weight   College\n",
       "0         0.277778  0.034483      0.50  0.285714  0.130137  0.794872\n",
       "1         0.500000  0.034483      0.75  0.285714  0.506849  0.444444\n",
       "2         0.444444  0.034483      1.00  0.380952  0.301370  0.068376\n",
       "3         0.444444  0.034483      1.00  0.142857  0.164384  0.282051\n",
       "4         0.722222  0.034483      0.25  0.476190  0.479452  0.384615"
      ]
     },
     "execution_count": 16,
     "metadata": {},
     "output_type": "execute_result"
    }
   ],
   "source": [
    "#Split data into features and response\n",
    "from sklearn.model_selection import train_test_split\n",
    "features = df_normalized.iloc[:,0:6] \n",
    "features.head() "
   ]
  },
  {
   "cell_type": "code",
   "execution_count": 17,
   "metadata": {},
   "outputs": [
    {
     "data": {
      "text/html": [
       "<div>\n",
       "<style scoped>\n",
       "    .dataframe tbody tr th:only-of-type {\n",
       "        vertical-align: middle;\n",
       "    }\n",
       "\n",
       "    .dataframe tbody tr th {\n",
       "        vertical-align: top;\n",
       "    }\n",
       "\n",
       "    .dataframe thead th {\n",
       "        text-align: right;\n",
       "    }\n",
       "</style>\n",
       "<table border=\"1\" class=\"dataframe\">\n",
       "  <thead>\n",
       "    <tr style=\"text-align: right;\">\n",
       "      <th></th>\n",
       "      <th>Salary</th>\n",
       "    </tr>\n",
       "  </thead>\n",
       "  <tbody>\n",
       "    <tr>\n",
       "      <th>0</th>\n",
       "      <td>0.308359</td>\n",
       "    </tr>\n",
       "    <tr>\n",
       "      <th>1</th>\n",
       "      <td>0.270944</td>\n",
       "    </tr>\n",
       "    <tr>\n",
       "      <th>2</th>\n",
       "      <td>0.223721</td>\n",
       "    </tr>\n",
       "    <tr>\n",
       "      <th>3</th>\n",
       "      <td>0.044765</td>\n",
       "    </tr>\n",
       "    <tr>\n",
       "      <th>4</th>\n",
       "      <td>0.199010</td>\n",
       "    </tr>\n",
       "  </tbody>\n",
       "</table>\n",
       "</div>"
      ],
      "text/plain": [
       "     Salary\n",
       "0  0.308359\n",
       "1  0.270944\n",
       "2  0.223721\n",
       "3  0.044765\n",
       "4  0.199010"
      ]
     },
     "execution_count": 17,
     "metadata": {},
     "output_type": "execute_result"
    }
   ],
   "source": [
    "response = df_normalized[['Salary']] #create a dataframe for response variable\n",
    "response.head()"
   ]
  },
  {
   "cell_type": "code",
   "execution_count": 18,
   "metadata": {},
   "outputs": [],
   "source": [
    "my_result_list = train_test_split(features, response, random_state=0)\n",
    "\n",
    "features_train = my_result_list[0]\n",
    "features_test = my_result_list[1]\n",
    "response_train = my_result_list[2]\n",
    "response_test = my_result_list[3]"
   ]
  },
  {
   "cell_type": "code",
   "execution_count": 19,
   "metadata": {},
   "outputs": [
    {
     "name": "stdout",
     "output_type": "stream",
     "text": [
      "Number of total rows in complete features dataframe:  457\n",
      "Number of total rows in features_train dataframe:  342\n",
      "Number of total rows in features_test dataframe:  115\n",
      "Number of total rows in complete response dataframe:  457\n",
      "Number of total rows in response_train dataframe:  342\n",
      "Number of total rows in response_test dataframe:  115\n"
     ]
    }
   ],
   "source": [
    "print(\"Number of total rows in complete features dataframe: \", len(features))\n",
    "print(\"Number of total rows in features_train dataframe: \", len(features_train))\n",
    "print(\"Number of total rows in features_test dataframe: \", len(features_test))\n",
    "print(\"Number of total rows in complete response dataframe: \", len(response))\n",
    "print(\"Number of total rows in response_train dataframe: \", len(response_train))\n",
    "print(\"Number of total rows in response_test dataframe: \", len(response_test))"
   ]
  },
  {
   "cell_type": "code",
   "execution_count": 20,
   "metadata": {},
   "outputs": [
    {
     "data": {
      "text/plain": [
       "LinearRegression(copy_X=True, fit_intercept=True, n_jobs=None, normalize=False)"
      ]
     },
     "execution_count": 20,
     "metadata": {},
     "output_type": "execute_result"
    }
   ],
   "source": [
    "from sklearn.linear_model import LinearRegression\n",
    "my_linear_regression = LinearRegression()\n",
    "my_linear_regression.fit(features_train, response_train)"
   ]
  },
  {
   "cell_type": "code",
   "execution_count": 21,
   "metadata": {},
   "outputs": [],
   "source": [
    "response_pred = my_linear_regression.predict(features_test)"
   ]
  },
  {
   "cell_type": "code",
   "execution_count": 22,
   "metadata": {},
   "outputs": [
    {
     "data": {
      "image/png": "[encoded data removed]",
      "text/plain": [
       "<Figure size 504x432 with 1 Axes>"
      ]
     },
     "metadata": {
      "needs_background": "light"
     },
     "output_type": "display_data"
    }
   ],
   "source": [
    "import matplotlib.pyplot as plt\n",
    "plt.figure(figsize=(7, 6))\n",
    "plt.scatter(response_test, response_pred)\n",
    "plt.ylabel('Prediction', size = 12)\n",
    "plt.xlabel('Actual Salary', size = 12)\n",
    "plt.show()"
   ]
  },
  {
   "cell_type": "code",
   "execution_count": 23,
   "metadata": {},
   "outputs": [
    {
     "name": "stdout",
     "output_type": "stream",
     "text": [
      "Mean Absolute Error: 0.15220411836393277\n",
      "Mean Squared Error: 0.0441964854167076\n",
      "Root Mean Squared Error: 0.21022960166614882\n"
     ]
    }
   ],
   "source": [
    "import numpy as np\n",
    "from sklearn import metrics\n",
    "print('Mean Absolute Error:', metrics.mean_absolute_error(response_test, response_pred))\n",
    "print('Mean Squared Error:', metrics.mean_squared_error(response_test, response_pred))\n",
    "print('Root Mean Squared Error:', np.sqrt(metrics.mean_squared_error(response_test, response_pred)))"
   ]
  },
  {
   "cell_type": "code",
   "execution_count": 24,
   "metadata": {},
   "outputs": [
    {
     "data": {
      "text/html": [
       "<div>\n",
       "<style scoped>\n",
       "    .dataframe tbody tr th:only-of-type {\n",
       "        vertical-align: middle;\n",
       "    }\n",
       "\n",
       "    .dataframe tbody tr th {\n",
       "        vertical-align: top;\n",
       "    }\n",
       "\n",
       "    .dataframe thead th {\n",
       "        text-align: right;\n",
       "    }\n",
       "</style>\n",
       "<table border=\"1\" class=\"dataframe\">\n",
       "  <thead>\n",
       "    <tr style=\"text-align: right;\">\n",
       "      <th></th>\n",
       "      <th>Height (inches)</th>\n",
       "      <th>Team</th>\n",
       "      <th>Position</th>\n",
       "      <th>Age</th>\n",
       "      <th>Weight</th>\n",
       "      <th>College</th>\n",
       "      <th>Salary</th>\n",
       "    </tr>\n",
       "  </thead>\n",
       "  <tbody>\n",
       "    <tr>\n",
       "      <th>0</th>\n",
       "      <td>0.277778</td>\n",
       "      <td>0.034483</td>\n",
       "      <td>0.50</td>\n",
       "      <td>0.285714</td>\n",
       "      <td>0.130137</td>\n",
       "      <td>0.794872</td>\n",
       "      <td>0.308359</td>\n",
       "    </tr>\n",
       "    <tr>\n",
       "      <th>1</th>\n",
       "      <td>0.500000</td>\n",
       "      <td>0.034483</td>\n",
       "      <td>0.75</td>\n",
       "      <td>0.285714</td>\n",
       "      <td>0.506849</td>\n",
       "      <td>0.444444</td>\n",
       "      <td>0.270944</td>\n",
       "    </tr>\n",
       "    <tr>\n",
       "      <th>2</th>\n",
       "      <td>0.444444</td>\n",
       "      <td>0.034483</td>\n",
       "      <td>1.00</td>\n",
       "      <td>0.380952</td>\n",
       "      <td>0.301370</td>\n",
       "      <td>0.068376</td>\n",
       "      <td>0.223721</td>\n",
       "    </tr>\n",
       "    <tr>\n",
       "      <th>3</th>\n",
       "      <td>0.444444</td>\n",
       "      <td>0.034483</td>\n",
       "      <td>1.00</td>\n",
       "      <td>0.142857</td>\n",
       "      <td>0.164384</td>\n",
       "      <td>0.282051</td>\n",
       "      <td>0.044765</td>\n",
       "    </tr>\n",
       "    <tr>\n",
       "      <th>4</th>\n",
       "      <td>0.722222</td>\n",
       "      <td>0.034483</td>\n",
       "      <td>0.25</td>\n",
       "      <td>0.476190</td>\n",
       "      <td>0.479452</td>\n",
       "      <td>0.384615</td>\n",
       "      <td>0.199010</td>\n",
       "    </tr>\n",
       "  </tbody>\n",
       "</table>\n",
       "</div>"
      ],
      "text/plain": [
       "   Height (inches)      Team  Position       Age    Weight   College    Salary\n",
       "0         0.277778  0.034483      0.50  0.285714  0.130137  0.794872  0.308359\n",
       "1         0.500000  0.034483      0.75  0.285714  0.506849  0.444444  0.270944\n",
       "2         0.444444  0.034483      1.00  0.380952  0.301370  0.068376  0.223721\n",
       "3         0.444444  0.034483      1.00  0.142857  0.164384  0.282051  0.044765\n",
       "4         0.722222  0.034483      0.25  0.476190  0.479452  0.384615  0.199010"
      ]
     },
     "execution_count": 24,
     "metadata": {},
     "output_type": "execute_result"
    }
   ],
   "source": [
    "df_normalized.head()"
   ]
  },
  {
   "cell_type": "code",
   "execution_count": 25,
   "metadata": {},
   "outputs": [],
   "source": [
    "# from sklearn.preprocessing import StandardScaler\n",
    "# scaler = StandardScaler() \n",
    "# data_standardized = scaler.fit_transform(df_clean)"
   ]
  },
  {
   "cell_type": "code",
   "execution_count": 26,
   "metadata": {},
   "outputs": [],
   "source": [
    "# df_standardized = pd.DataFrame(data_standardized, columns = df_clean.columns.to_list())\n",
    "# df_standardized.head()"
   ]
  },
  {
   "cell_type": "code",
   "execution_count": 27,
   "metadata": {},
   "outputs": [
    {
     "name": "stdout",
     "output_type": "stream",
     "text": [
      "Mean: \n",
      "Height (inches)    0.570630\n",
      "Team               0.500717\n",
      "Position           0.518053\n",
      "Age                0.378035\n",
      "Weight             0.414541\n",
      "College            0.472330\n",
      "Salary             0.191712\n",
      "dtype: float64\n",
      "\n",
      "Variance: \n",
      "Height (inches)    0.037378\n",
      "Team               0.087970\n",
      "Position           0.123714\n",
      "Age                0.043980\n",
      "Weight             0.032618\n",
      "College            0.064886\n",
      "Salary             0.043181\n",
      "dtype: float64\n"
     ]
    }
   ],
   "source": [
    "print(\"Mean: \")\n",
    "print(df_normalized.mean())\n",
    "print()\n",
    "print(\"Variance: \")\n",
    "print(df_normalized.var())"
   ]
  },
  {
   "cell_type": "code",
   "execution_count": 28,
   "metadata": {},
   "outputs": [
    {
     "data": {
      "text/html": [
       "<div>\n",
       "<style scoped>\n",
       "    .dataframe tbody tr th:only-of-type {\n",
       "        vertical-align: middle;\n",
       "    }\n",
       "\n",
       "    .dataframe tbody tr th {\n",
       "        vertical-align: top;\n",
       "    }\n",
       "\n",
       "    .dataframe thead th {\n",
       "        text-align: right;\n",
       "    }\n",
       "</style>\n",
       "<table border=\"1\" class=\"dataframe\">\n",
       "  <thead>\n",
       "    <tr style=\"text-align: right;\">\n",
       "      <th></th>\n",
       "      <th>Height (inches)</th>\n",
       "      <th>Team</th>\n",
       "      <th>Position</th>\n",
       "      <th>Age</th>\n",
       "      <th>Weight</th>\n",
       "      <th>College</th>\n",
       "      <th>Salary</th>\n",
       "    </tr>\n",
       "  </thead>\n",
       "  <tbody>\n",
       "    <tr>\n",
       "      <th>0</th>\n",
       "      <td>0.277778</td>\n",
       "      <td>0.034483</td>\n",
       "      <td>0.50</td>\n",
       "      <td>0.285714</td>\n",
       "      <td>0.130137</td>\n",
       "      <td>0.794872</td>\n",
       "      <td>0.308359</td>\n",
       "    </tr>\n",
       "    <tr>\n",
       "      <th>1</th>\n",
       "      <td>0.500000</td>\n",
       "      <td>0.034483</td>\n",
       "      <td>0.75</td>\n",
       "      <td>0.285714</td>\n",
       "      <td>0.506849</td>\n",
       "      <td>0.444444</td>\n",
       "      <td>0.270944</td>\n",
       "    </tr>\n",
       "    <tr>\n",
       "      <th>2</th>\n",
       "      <td>0.444444</td>\n",
       "      <td>0.034483</td>\n",
       "      <td>1.00</td>\n",
       "      <td>0.380952</td>\n",
       "      <td>0.301370</td>\n",
       "      <td>0.068376</td>\n",
       "      <td>0.223721</td>\n",
       "    </tr>\n",
       "    <tr>\n",
       "      <th>3</th>\n",
       "      <td>0.444444</td>\n",
       "      <td>0.034483</td>\n",
       "      <td>1.00</td>\n",
       "      <td>0.142857</td>\n",
       "      <td>0.164384</td>\n",
       "      <td>0.282051</td>\n",
       "      <td>0.044765</td>\n",
       "    </tr>\n",
       "    <tr>\n",
       "      <th>4</th>\n",
       "      <td>0.722222</td>\n",
       "      <td>0.034483</td>\n",
       "      <td>0.25</td>\n",
       "      <td>0.476190</td>\n",
       "      <td>0.479452</td>\n",
       "      <td>0.384615</td>\n",
       "      <td>0.199010</td>\n",
       "    </tr>\n",
       "  </tbody>\n",
       "</table>\n",
       "</div>"
      ],
      "text/plain": [
       "   Height (inches)      Team  Position       Age    Weight   College    Salary\n",
       "0         0.277778  0.034483      0.50  0.285714  0.130137  0.794872  0.308359\n",
       "1         0.500000  0.034483      0.75  0.285714  0.506849  0.444444  0.270944\n",
       "2         0.444444  0.034483      1.00  0.380952  0.301370  0.068376  0.223721\n",
       "3         0.444444  0.034483      1.00  0.142857  0.164384  0.282051  0.044765\n",
       "4         0.722222  0.034483      0.25  0.476190  0.479452  0.384615  0.199010"
      ]
     },
     "execution_count": 28,
     "metadata": {},
     "output_type": "execute_result"
    }
   ],
   "source": [
    "df_normalized.head()"
   ]
  },
  {
   "cell_type": "code",
   "execution_count": 29,
   "metadata": {},
   "outputs": [
    {
     "data": {
      "text/plain": [
       "LinearRegression(copy_X=True, fit_intercept=True, n_jobs=None, normalize=False)"
      ]
     },
     "execution_count": 29,
     "metadata": {},
     "output_type": "execute_result"
    }
   ],
   "source": [
    "from sklearn.linear_model import LinearRegression\n",
    "my_linear_regression = LinearRegression()\n",
    "features = df_normalized.iloc[:,0:6] #First 6 columns in dataframe accounts for features\n",
    "response = df_normalized[['Salary']]\n",
    "my_linear_regression.fit(features, response) #first input is features, second input is response"
   ]
  },
  {
   "cell_type": "code",
   "execution_count": 30,
   "metadata": {},
   "outputs": [
    {
     "name": "stdout",
     "output_type": "stream",
     "text": [
      "Height (inches): -0.13010\n",
      "Team: -0.01924\n",
      "Position: -0.01812\n",
      "Age: 0.18928\n",
      "Weight: 0.23706\n",
      "College: 0.00927\n"
     ]
    }
   ],
   "source": [
    "importance = my_linear_regression.coef_[0]\n",
    "feature_names = df_normalized.columns.to_list()\n",
    "feature_names.remove('Salary')\n",
    "# summarize feature importance\n",
    "for i, score in enumerate(importance):\n",
    "    print('%s: %.5f' % (feature_names[i], score))"
   ]
  },
  {
   "cell_type": "code",
   "execution_count": 31,
   "metadata": {},
   "outputs": [
    {
     "data": {
      "image/png": "[encoded data removed]",
      "text/plain": [
       "<Figure size 720x360 with 1 Axes>"
      ]
     },
     "metadata": {
      "needs_background": "light"
     },
     "output_type": "display_data"
    }
   ],
   "source": [
    "from matplotlib import pyplot\n",
    "pyplot.figure(figsize=(10, 5))\n",
    "# plot feature importance\n",
    "pyplot.bar(x = list(range(len(importance))), height = importance, tick_label = feature_names)\n",
    "pyplot.title('Salary Feature Importance')\n",
    "pyplot.xlabel('Features')\n",
    "pyplot.ylabel('Importance Score')\n",
    "pyplot.show()"
   ]
  },
  {
   "cell_type": "code",
   "execution_count": 32,
   "metadata": {},
   "outputs": [
    {
     "data": {
      "text/html": [
       "<div>\n",
       "<style scoped>\n",
       "    .dataframe tbody tr th:only-of-type {\n",
       "        vertical-align: middle;\n",
       "    }\n",
       "\n",
       "    .dataframe tbody tr th {\n",
       "        vertical-align: top;\n",
       "    }\n",
       "\n",
       "    .dataframe thead th {\n",
       "        text-align: right;\n",
       "    }\n",
       "</style>\n",
       "<table border=\"1\" class=\"dataframe\">\n",
       "  <thead>\n",
       "    <tr style=\"text-align: right;\">\n",
       "      <th></th>\n",
       "      <th>Height (inches)</th>\n",
       "      <th>Team</th>\n",
       "      <th>Position</th>\n",
       "      <th>Age</th>\n",
       "      <th>Weight</th>\n",
       "      <th>College</th>\n",
       "      <th>Salary</th>\n",
       "    </tr>\n",
       "  </thead>\n",
       "  <tbody>\n",
       "    <tr>\n",
       "      <th>0</th>\n",
       "      <td>-1.516410</td>\n",
       "      <td>-1.573667</td>\n",
       "      <td>-0.051381</td>\n",
       "      <td>-0.440701</td>\n",
       "      <td>-1.576454</td>\n",
       "      <td>1.267612</td>\n",
       "      <td>0.561957</td>\n",
       "    </tr>\n",
       "    <tr>\n",
       "      <th>1</th>\n",
       "      <td>-0.365726</td>\n",
       "      <td>-1.573667</td>\n",
       "      <td>0.660170</td>\n",
       "      <td>-0.440701</td>\n",
       "      <td>0.511666</td>\n",
       "      <td>-0.109591</td>\n",
       "      <td>0.381707</td>\n",
       "    </tr>\n",
       "    <tr>\n",
       "      <th>2</th>\n",
       "      <td>-0.653397</td>\n",
       "      <td>-1.573667</td>\n",
       "      <td>1.371722</td>\n",
       "      <td>0.013927</td>\n",
       "      <td>-0.627308</td>\n",
       "      <td>-1.587566</td>\n",
       "      <td>0.154206</td>\n",
       "    </tr>\n",
       "    <tr>\n",
       "      <th>3</th>\n",
       "      <td>-0.653397</td>\n",
       "      <td>-1.573667</td>\n",
       "      <td>1.371722</td>\n",
       "      <td>-1.122644</td>\n",
       "      <td>-1.386625</td>\n",
       "      <td>-0.747807</td>\n",
       "      <td>-0.707928</td>\n",
       "    </tr>\n",
       "    <tr>\n",
       "      <th>4</th>\n",
       "      <td>0.784958</td>\n",
       "      <td>-1.573667</td>\n",
       "      <td>-0.762933</td>\n",
       "      <td>0.468556</td>\n",
       "      <td>0.359803</td>\n",
       "      <td>-0.344723</td>\n",
       "      <td>0.035161</td>\n",
       "    </tr>\n",
       "  </tbody>\n",
       "</table>\n",
       "</div>"
      ],
      "text/plain": [
       "   Height (inches)      Team  Position       Age    Weight   College    Salary\n",
       "0        -1.516410 -1.573667 -0.051381 -0.440701 -1.576454  1.267612  0.561957\n",
       "1        -0.365726 -1.573667  0.660170 -0.440701  0.511666 -0.109591  0.381707\n",
       "2        -0.653397 -1.573667  1.371722  0.013927 -0.627308 -1.587566  0.154206\n",
       "3        -0.653397 -1.573667  1.371722 -1.122644 -1.386625 -0.747807 -0.707928\n",
       "4         0.784958 -1.573667 -0.762933  0.468556  0.359803 -0.344723  0.035161"
      ]
     },
     "execution_count": 32,
     "metadata": {},
     "output_type": "execute_result"
    }
   ],
   "source": [
    "df_clean.head()"
   ]
  },
  {
   "cell_type": "code",
   "execution_count": null,
   "metadata": {},
   "outputs": [],
   "source": []
  },
  {
   "cell_type": "code",
   "execution_count": 33,
   "metadata": {},
   "outputs": [
    {
     "data": {
      "text/html": [
       "<div>\n",
       "<style scoped>\n",
       "    .dataframe tbody tr th:only-of-type {\n",
       "        vertical-align: middle;\n",
       "    }\n",
       "\n",
       "    .dataframe tbody tr th {\n",
       "        vertical-align: top;\n",
       "    }\n",
       "\n",
       "    .dataframe thead th {\n",
       "        text-align: right;\n",
       "    }\n",
       "</style>\n",
       "<table border=\"1\" class=\"dataframe\">\n",
       "  <thead>\n",
       "    <tr style=\"text-align: right;\">\n",
       "      <th></th>\n",
       "      <th>Age</th>\n",
       "      <th>Weight</th>\n",
       "      <th>Salary</th>\n",
       "    </tr>\n",
       "  </thead>\n",
       "  <tbody>\n",
       "    <tr>\n",
       "      <th>0</th>\n",
       "      <td>0.285714</td>\n",
       "      <td>0.130137</td>\n",
       "      <td>0.308359</td>\n",
       "    </tr>\n",
       "    <tr>\n",
       "      <th>1</th>\n",
       "      <td>0.285714</td>\n",
       "      <td>0.506849</td>\n",
       "      <td>0.270944</td>\n",
       "    </tr>\n",
       "    <tr>\n",
       "      <th>2</th>\n",
       "      <td>0.380952</td>\n",
       "      <td>0.301370</td>\n",
       "      <td>0.223721</td>\n",
       "    </tr>\n",
       "    <tr>\n",
       "      <th>3</th>\n",
       "      <td>0.142857</td>\n",
       "      <td>0.164384</td>\n",
       "      <td>0.044765</td>\n",
       "    </tr>\n",
       "    <tr>\n",
       "      <th>4</th>\n",
       "      <td>0.476190</td>\n",
       "      <td>0.479452</td>\n",
       "      <td>0.199010</td>\n",
       "    </tr>\n",
       "  </tbody>\n",
       "</table>\n",
       "</div>"
      ],
      "text/plain": [
       "        Age    Weight    Salary\n",
       "0  0.285714  0.130137  0.308359\n",
       "1  0.285714  0.506849  0.270944\n",
       "2  0.380952  0.301370  0.223721\n",
       "3  0.142857  0.164384  0.044765\n",
       "4  0.476190  0.479452  0.199010"
      ]
     },
     "execution_count": 33,
     "metadata": {},
     "output_type": "execute_result"
    }
   ],
   "source": [
    "#I am trying to improve my model by removing the features that proved to be of little importance to the prediction\n",
    "df_normalized2 = df_normalized.drop(labels = ['Height (inches)', 'Team', 'Position', 'College'], axis = 1) \n",
    "df_normalized2.head()"
   ]
  },
  {
   "cell_type": "code",
   "execution_count": 34,
   "metadata": {},
   "outputs": [
    {
     "data": {
      "text/html": [
       "<div>\n",
       "<style scoped>\n",
       "    .dataframe tbody tr th:only-of-type {\n",
       "        vertical-align: middle;\n",
       "    }\n",
       "\n",
       "    .dataframe tbody tr th {\n",
       "        vertical-align: top;\n",
       "    }\n",
       "\n",
       "    .dataframe thead th {\n",
       "        text-align: right;\n",
       "    }\n",
       "</style>\n",
       "<table border=\"1\" class=\"dataframe\">\n",
       "  <thead>\n",
       "    <tr style=\"text-align: right;\">\n",
       "      <th></th>\n",
       "      <th>Age</th>\n",
       "      <th>Weight</th>\n",
       "    </tr>\n",
       "  </thead>\n",
       "  <tbody>\n",
       "    <tr>\n",
       "      <th>0</th>\n",
       "      <td>0.285714</td>\n",
       "      <td>0.130137</td>\n",
       "    </tr>\n",
       "    <tr>\n",
       "      <th>1</th>\n",
       "      <td>0.285714</td>\n",
       "      <td>0.506849</td>\n",
       "    </tr>\n",
       "    <tr>\n",
       "      <th>2</th>\n",
       "      <td>0.380952</td>\n",
       "      <td>0.301370</td>\n",
       "    </tr>\n",
       "    <tr>\n",
       "      <th>3</th>\n",
       "      <td>0.142857</td>\n",
       "      <td>0.164384</td>\n",
       "    </tr>\n",
       "    <tr>\n",
       "      <th>4</th>\n",
       "      <td>0.476190</td>\n",
       "      <td>0.479452</td>\n",
       "    </tr>\n",
       "  </tbody>\n",
       "</table>\n",
       "</div>"
      ],
      "text/plain": [
       "        Age    Weight\n",
       "0  0.285714  0.130137\n",
       "1  0.285714  0.506849\n",
       "2  0.380952  0.301370\n",
       "3  0.142857  0.164384\n",
       "4  0.476190  0.479452"
      ]
     },
     "execution_count": 34,
     "metadata": {},
     "output_type": "execute_result"
    }
   ],
   "source": [
    "#Split data into features and response\n",
    "from sklearn.model_selection import train_test_split\n",
    "features = df_normalized2.iloc[:,0:2] \n",
    "features.head() "
   ]
  },
  {
   "cell_type": "code",
   "execution_count": 35,
   "metadata": {},
   "outputs": [
    {
     "data": {
      "text/html": [
       "<div>\n",
       "<style scoped>\n",
       "    .dataframe tbody tr th:only-of-type {\n",
       "        vertical-align: middle;\n",
       "    }\n",
       "\n",
       "    .dataframe tbody tr th {\n",
       "        vertical-align: top;\n",
       "    }\n",
       "\n",
       "    .dataframe thead th {\n",
       "        text-align: right;\n",
       "    }\n",
       "</style>\n",
       "<table border=\"1\" class=\"dataframe\">\n",
       "  <thead>\n",
       "    <tr style=\"text-align: right;\">\n",
       "      <th></th>\n",
       "      <th>Salary</th>\n",
       "    </tr>\n",
       "  </thead>\n",
       "  <tbody>\n",
       "    <tr>\n",
       "      <th>0</th>\n",
       "      <td>0.308359</td>\n",
       "    </tr>\n",
       "    <tr>\n",
       "      <th>1</th>\n",
       "      <td>0.270944</td>\n",
       "    </tr>\n",
       "    <tr>\n",
       "      <th>2</th>\n",
       "      <td>0.223721</td>\n",
       "    </tr>\n",
       "    <tr>\n",
       "      <th>3</th>\n",
       "      <td>0.044765</td>\n",
       "    </tr>\n",
       "    <tr>\n",
       "      <th>4</th>\n",
       "      <td>0.199010</td>\n",
       "    </tr>\n",
       "  </tbody>\n",
       "</table>\n",
       "</div>"
      ],
      "text/plain": [
       "     Salary\n",
       "0  0.308359\n",
       "1  0.270944\n",
       "2  0.223721\n",
       "3  0.044765\n",
       "4  0.199010"
      ]
     },
     "execution_count": 35,
     "metadata": {},
     "output_type": "execute_result"
    }
   ],
   "source": [
    "response = df_normalized2[['Salary']] #create a dataframe for response variable\n",
    "response.head()"
   ]
  },
  {
   "cell_type": "code",
   "execution_count": 36,
   "metadata": {},
   "outputs": [],
   "source": [
    "my_result_list = train_test_split(features, response, random_state=0)\n",
    "\n",
    "features_train = my_result_list[0]\n",
    "features_test = my_result_list[1]\n",
    "response_train = my_result_list[2]\n",
    "response_test = my_result_list[3]"
   ]
  },
  {
   "cell_type": "code",
   "execution_count": 37,
   "metadata": {},
   "outputs": [
    {
     "name": "stdout",
     "output_type": "stream",
     "text": [
      "Number of total rows in complete features dataframe:  457\n",
      "Number of total rows in features_train dataframe:  342\n",
      "Number of total rows in features_test dataframe:  115\n",
      "Number of total rows in complete response dataframe:  457\n",
      "Number of total rows in response_train dataframe:  342\n",
      "Number of total rows in response_test dataframe:  115\n"
     ]
    }
   ],
   "source": [
    "print(\"Number of total rows in complete features dataframe: \", len(features))\n",
    "print(\"Number of total rows in features_train dataframe: \", len(features_train))\n",
    "print(\"Number of total rows in features_test dataframe: \", len(features_test))\n",
    "print(\"Number of total rows in complete response dataframe: \", len(response))\n",
    "print(\"Number of total rows in response_train dataframe: \", len(response_train))\n",
    "print(\"Number of total rows in response_test dataframe: \", len(response_test))"
   ]
  },
  {
   "cell_type": "code",
   "execution_count": 38,
   "metadata": {},
   "outputs": [
    {
     "data": {
      "text/plain": [
       "LinearRegression(copy_X=True, fit_intercept=True, n_jobs=None, normalize=False)"
      ]
     },
     "execution_count": 38,
     "metadata": {},
     "output_type": "execute_result"
    }
   ],
   "source": [
    "from sklearn.linear_model import LinearRegression\n",
    "my_linear_regression = LinearRegression()\n",
    "my_linear_regression.fit(features_train, response_train)"
   ]
  },
  {
   "cell_type": "code",
   "execution_count": 39,
   "metadata": {},
   "outputs": [],
   "source": [
    "response_pred = my_linear_regression.predict(features_test)"
   ]
  },
  {
   "cell_type": "code",
   "execution_count": 40,
   "metadata": {},
   "outputs": [
    {
     "data": {
      "image/png": "[encoded data removed]",
      "text/plain": [
       "<Figure size 504x432 with 1 Axes>"
      ]
     },
     "metadata": {
      "needs_background": "light"
     },
     "output_type": "display_data"
    }
   ],
   "source": [
    "import matplotlib.pyplot as plt\n",
    "plt.figure(figsize=(7, 6))\n",
    "plt.scatter(response_test, response_pred)\n",
    "plt.ylabel('Prediction', size = 12)\n",
    "plt.xlabel('Actual Salary', size = 12)\n",
    "plt.show()"
   ]
  },
  {
   "cell_type": "code",
   "execution_count": 41,
   "metadata": {},
   "outputs": [
    {
     "name": "stdout",
     "output_type": "stream",
     "text": [
      "Mean Absolute Error: 0.1526815360887418\n",
      "Mean Squared Error: 0.0443716846133291\n",
      "Root Mean Squared Error: 0.21064587490223752\n"
     ]
    }
   ],
   "source": [
    "import numpy as np\n",
    "from sklearn import metrics\n",
    "print('Mean Absolute Error:', metrics.mean_absolute_error(response_test, response_pred))\n",
    "print('Mean Squared Error:', metrics.mean_squared_error(response_test, response_pred))\n",
    "print('Root Mean Squared Error:', np.sqrt(metrics.mean_squared_error(response_test, response_pred)))\n",
    "\n",
    "#The error here is slightly reduced due to removing the features that turned out to be less corolational"
   ]
  },
  {
   "cell_type": "code",
   "execution_count": 42,
   "metadata": {},
   "outputs": [
    {
     "name": "stdout",
     "output_type": "stream",
     "text": [
      "Mean: \n",
      "Age       0.378035\n",
      "Weight    0.414541\n",
      "Salary    0.191712\n",
      "dtype: float64\n",
      "\n",
      "Variance: \n",
      "Age       0.043980\n",
      "Weight    0.032618\n",
      "Salary    0.043181\n",
      "dtype: float64\n"
     ]
    }
   ],
   "source": [
    "print(\"Mean: \")\n",
    "print(df_normalized2.mean())\n",
    "print()\n",
    "print(\"Variance: \")\n",
    "print(df_normalized2.var())"
   ]
  },
  {
   "cell_type": "code",
   "execution_count": 43,
   "metadata": {},
   "outputs": [
    {
     "data": {
      "text/plain": [
       "LinearRegression(copy_X=True, fit_intercept=True, n_jobs=None, normalize=False)"
      ]
     },
     "execution_count": 43,
     "metadata": {},
     "output_type": "execute_result"
    }
   ],
   "source": [
    "from sklearn.linear_model import LinearRegression\n",
    "my_linear_regression = LinearRegression()\n",
    "features = df_normalized2.iloc[:,0:2]\n",
    "response = df_normalized2[['Salary']]\n",
    "my_linear_regression.fit(features, response)"
   ]
  },
  {
   "cell_type": "code",
   "execution_count": 44,
   "metadata": {},
   "outputs": [
    {
     "name": "stdout",
     "output_type": "stream",
     "text": [
      "Age: 0.19967\n",
      "Weight: 0.14063\n"
     ]
    }
   ],
   "source": [
    "importance = my_linear_regression.coef_[0]\n",
    "feature_names = df_normalized2.columns.to_list()\n",
    "feature_names.remove('Salary')\n",
    "# summarize feature importance\n",
    "for i, score in enumerate(importance):\n",
    "    print('%s: %.5f' % (feature_names[i], score))"
   ]
  },
  {
   "cell_type": "code",
   "execution_count": 45,
   "metadata": {},
   "outputs": [
    {
     "data": {
      "image/png": "[encoded data removed]",
      "text/plain": [
       "<Figure size 720x360 with 1 Axes>"
      ]
     },
     "metadata": {
      "needs_background": "light"
     },
     "output_type": "display_data"
    }
   ],
   "source": [
    "from matplotlib import pyplot\n",
    "pyplot.figure(figsize=(10, 5))\n",
    "# plot feature importance\n",
    "pyplot.bar(x = list(range(len(importance))), height = importance, tick_label = feature_names)\n",
    "pyplot.title('Salary Feature Importance')\n",
    "pyplot.xlabel('Features')\n",
    "pyplot.ylabel('Importance Score')\n",
    "pyplot.show()"
   ]
  }
 ],
 "metadata": {
  "kernelspec": {
   "display_name": "Python 3",
   "language": "python",
   "name": "python3"
  },
  "language_info": {
   "codemirror_mode": {
    "name": "ipython",
    "version": 3
   },
   "file_extension": ".py",
   "mimetype": "text/x-python",
   "name": "python",
   "nbconvert_exporter": "python",
   "pygments_lexer": "ipython3",
   "version": "3.7.6"
  }
 },
 "nbformat": 4,
 "nbformat_minor": 4
}
